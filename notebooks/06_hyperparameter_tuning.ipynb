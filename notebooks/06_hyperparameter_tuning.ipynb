{
 "cells": [
  {
   "cell_type": "markdown",
   "id": "b0d8a2fd",
   "metadata": {},
   "source": [
    "# 2.6 Hyperparameter Tuning\n",
    "## *Steps:*\n",
    "1. Use GridSearchCV & RandomizedSearchCV to optimize model hyperparameters.\n",
    "2. Compare optimized models with baseline performance.\n",
    "## *Deliverable:*\n",
    "✔️ Best performing model with optimized hyperparameters"
   ]
  },
  {
   "cell_type": "code",
   "execution_count": 1,
   "id": "94a5f60e",
   "metadata": {},
   "outputs": [],
   "source": [
    "from sklearn.model_selection import GridSearchCV,RandomizedSearchCV\n",
    "from sklearn.ensemble import RandomForestClassifier\n",
    "from sklearn.tree import DecisionTreeClassifier\n",
    "from sklearn.neighbors import KNeighborsClassifier\n",
    "from sklearn.linear_model import LogisticRegression\n",
    "from sklearn.svm import SVC\n",
    "from sklearn.model_selection import train_test_split\n",
    "from sklearn.metrics import accuracy_score,precision_score,recall_score,f1_score,confusion_matrix,ConfusionMatrixDisplay,classification_report,roc_auc_score\n",
    "import pandas as pd\n",
    "import matplotlib.pyplot as plt\n",
    "import seaborn as sns\n",
    "import warnings\n",
    "warnings.filterwarnings('ignore')"
   ]
  },
  {
   "cell_type": "code",
   "execution_count": 2,
   "id": "cf43d791",
   "metadata": {},
   "outputs": [],
   "source": [
    "data = pd.read_csv('../data/features_selected_rfe.csv')\n",
    "X = data.drop(columns=['num'])\n",
    "y = data['num']"
   ]
  },
  {
   "cell_type": "code",
   "execution_count": 3,
   "id": "c02da06e",
   "metadata": {},
   "outputs": [],
   "source": [
    "X_train,X_test,y_train,y_test = train_test_split(X,y,test_size=0.2,stratify=y,random_state=42)"
   ]
  },
  {
   "cell_type": "code",
   "execution_count": 4,
   "id": "db8190a9",
   "metadata": {},
   "outputs": [],
   "source": [
    "def print_performance(model,X_train,y_train,X_test,y_test):\n",
    "    model.fit(X_train,y_train)\n",
    "    y_pred = model.predict(X_test)\n",
    "    print(f'Test Accuracy: {accuracy_score(y_train,model.predict(X_train))*100:.2f}%')\n",
    "    print(f'Test Accuracy: {accuracy_score(y_test,y_pred)*100:.2f}%')\n",
    "    print(f\"ROC score: {roc_auc_score(y_test,y_pred):.3f}\")\n",
    "    print(f\"Precision score: {precision_score(y_test,y_pred):.2f}\")\n",
    "    print(f\"Recall score: {recall_score(y_test,y_pred):.2f}\")\n",
    "    print(f\"F1 Score score: {f1_score(y_test,y_pred):.2f}\")"
   ]
  },
  {
   "cell_type": "markdown",
   "id": "691f4793",
   "metadata": {},
   "source": [
    "## Decision Tree Best Hyperparameters by GridSearchCV"
   ]
  },
  {
   "cell_type": "code",
   "execution_count": 5,
   "id": "46d6cbd7",
   "metadata": {},
   "outputs": [
    {
     "name": "stdout",
     "output_type": "stream",
     "text": [
      "Best Hyperparameters: {'criterion': 'entropy', 'max_depth': 5, 'max_features': 'sqrt', 'max_leaf_nodes': 10, 'min_samples_leaf': 1, 'min_samples_split': 2, 'random_state': 5, 'splitter': 'best'}\n"
     ]
    }
   ],
   "source": [
    "# Hyperparameter tuning for Decision Tree\n",
    "param_grid = {\n",
    "    'criterion': ['gini', 'entropy', 'log_loss'] ,\n",
    "    'splitter':['best', 'random'], \n",
    "    'max_depth': [5,10,15,20], \n",
    "    'min_samples_split': [2,4,6],\n",
    "    'min_samples_leaf': [1,2,3,4],\n",
    "    'max_features': ['auto', 'sqrt', 'log2'], \n",
    "    'random_state': [0,1,2,5,0,42], \n",
    "    'max_leaf_nodes': [10,50,100]\n",
    "\n",
    "}\n",
    "grid_search = GridSearchCV(DecisionTreeClassifier(), param_grid, cv=5)\n",
    "grid_search.fit(X_train, y_train)\n",
    "\n",
    "print(\"Best Hyperparameters:\", grid_search.best_params_)"
   ]
  },
  {
   "cell_type": "code",
   "execution_count": 32,
   "id": "b9b46341",
   "metadata": {},
   "outputs": [
    {
     "name": "stdout",
     "output_type": "stream",
     "text": [
      "Test Accuracy: 86.78%\n",
      "Test Accuracy: 81.97%\n",
      "ROC score: 0.820\n",
      "Precision score: 0.79\n",
      "Recall score: 0.82\n",
      "F1 Score score: 0.81\n"
     ]
    }
   ],
   "source": [
    "clf = DecisionTreeClassifier(criterion= 'entropy', max_depth= 5, max_features= 'sqrt', \n",
    "                             max_leaf_nodes= 10, min_samples_leaf= 1, min_samples_split= 2, \n",
    "                             random_state= 5, splitter='best')\n",
    "print_performance(clf,X_train,y_train,X_test,y_test)"
   ]
  },
  {
   "cell_type": "markdown",
   "id": "5ef20e26",
   "metadata": {},
   "source": [
    "## Decision Tree Best Hyperparameters By RandomizedSearchCV"
   ]
  },
  {
   "cell_type": "code",
   "execution_count": 7,
   "id": "c30b77b3",
   "metadata": {},
   "outputs": [
    {
     "name": "stdout",
     "output_type": "stream",
     "text": [
      "Best Hyperparameters: {'splitter': 'best', 'random_state': 2, 'min_samples_split': 6, 'min_samples_leaf': 4, 'max_leaf_nodes': 100, 'max_features': 'log2', 'max_depth': 5, 'criterion': 'entropy'}\n"
     ]
    }
   ],
   "source": [
    "# Hyperparameter tuning for Decision Tree\n",
    "param_grid = {\n",
    "    'criterion': ['gini', 'entropy', 'log_loss'] ,\n",
    "    'splitter':['best', 'random'], \n",
    "    'max_depth': [5,10,15,20], \n",
    "    'min_samples_split': [2,4,6],\n",
    "    'min_samples_leaf': [1,2,3,4],\n",
    "    'max_features': ['auto', 'sqrt', 'log2'], \n",
    "    'random_state': [0,1,2,5,0,42], \n",
    "    'max_leaf_nodes': [10,50,100]\n",
    "\n",
    "}\n",
    "grid_search = RandomizedSearchCV(DecisionTreeClassifier(), param_grid, cv=5)\n",
    "grid_search.fit(X_train, y_train)\n",
    "\n",
    "print(\"Best Hyperparameters:\", grid_search.best_params_)"
   ]
  },
  {
   "cell_type": "code",
   "execution_count": 33,
   "id": "cd2acd1c",
   "metadata": {},
   "outputs": [
    {
     "name": "stdout",
     "output_type": "stream",
     "text": [
      "Test Accuracy: 85.12%\n",
      "Test Accuracy: 81.97%\n",
      "ROC score: 0.812\n",
      "Precision score: 0.87\n",
      "Recall score: 0.71\n",
      "F1 Score score: 0.78\n"
     ]
    }
   ],
   "source": [
    "clf = DecisionTreeClassifier(splitter= 'best', random_state= 2, min_samples_split= 6, min_samples_leaf=4,\n",
    "                              max_leaf_nodes= 100, max_features= 'log2', max_depth= 5, criterion='entropy')\n",
    "print_performance(clf,X_train,y_train,X_test,y_test)"
   ]
  },
  {
   "cell_type": "markdown",
   "id": "a7689209",
   "metadata": {},
   "source": [
    "## Random Forest Best Hyperparameters by GridSearchCV"
   ]
  },
  {
   "cell_type": "code",
   "execution_count": 9,
   "id": "779cbd57",
   "metadata": {},
   "outputs": [
    {
     "name": "stdout",
     "output_type": "stream",
     "text": [
      "Best Hyperparameters: {'max_depth': 30, 'n_estimators': 10}\n"
     ]
    }
   ],
   "source": [
    "# Hyperparameter tuning for Random Forest\n",
    "param_grid = {\n",
    "    'n_estimators': [10, 50, 100, 150, 200, 250],\n",
    "    'max_depth': [None, 10, 20, 30, 40, 50],\n",
    "}\n",
    "grid_search = GridSearchCV(RandomForestClassifier(), param_grid, cv=5)\n",
    "grid_search.fit(X_train, y_train)\n",
    "\n",
    "print(\"Best Hyperparameters:\", grid_search.best_params_)"
   ]
  },
  {
   "cell_type": "code",
   "execution_count": 34,
   "id": "59242194",
   "metadata": {},
   "outputs": [
    {
     "name": "stdout",
     "output_type": "stream",
     "text": [
      "Test Accuracy: 97.52%\n",
      "Test Accuracy: 81.97%\n",
      "ROC score: 0.817\n",
      "Precision score: 0.81\n",
      "Recall score: 0.79\n",
      "F1 Score score: 0.80\n"
     ]
    }
   ],
   "source": [
    "clf = RandomForestClassifier(max_depth=30,n_estimators=10)\n",
    "print_performance(clf,X_train,y_train,X_test,y_test)"
   ]
  },
  {
   "cell_type": "markdown",
   "id": "b4f55450",
   "metadata": {},
   "source": [
    "## Random Forest Best Hyperparameters by RandomizedSearchCV"
   ]
  },
  {
   "cell_type": "code",
   "execution_count": 11,
   "id": "b33d76f6",
   "metadata": {},
   "outputs": [
    {
     "name": "stdout",
     "output_type": "stream",
     "text": [
      "Best Hyperparameters: {'n_estimators': 150, 'max_depth': 20}\n"
     ]
    }
   ],
   "source": [
    "# Hyperparameter tuning for Random Forest\n",
    "param_grid = {\n",
    "    'n_estimators': [10, 50, 100, 150, 200, 250],\n",
    "    'max_depth': [None, 10, 20, 30, 40, 50],\n",
    "}\n",
    "grid_search = RandomizedSearchCV(RandomForestClassifier(), param_grid, cv=5)\n",
    "grid_search.fit(X_train, y_train)\n",
    "\n",
    "print(\"Best Hyperparameters:\", grid_search.best_params_)"
   ]
  },
  {
   "cell_type": "code",
   "execution_count": 35,
   "id": "c161c3d1",
   "metadata": {},
   "outputs": [
    {
     "name": "stdout",
     "output_type": "stream",
     "text": [
      "Test Accuracy: 100.00%\n",
      "Test Accuracy: 81.97%\n",
      "ROC score: 0.823\n",
      "Precision score: 0.77\n",
      "Recall score: 0.86\n",
      "F1 Score score: 0.81\n"
     ]
    }
   ],
   "source": [
    "clf = RandomForestClassifier(max_depth=20,n_estimators=150)\n",
    "print_performance(clf,X_train,y_train,X_test,y_test)"
   ]
  },
  {
   "cell_type": "markdown",
   "id": "fbc53469",
   "metadata": {},
   "source": [
    "## K Nearest Neighbor Best Hyperparameters by GridSearchCV"
   ]
  },
  {
   "cell_type": "code",
   "execution_count": 13,
   "id": "e94ca5cf",
   "metadata": {},
   "outputs": [
    {
     "name": "stdout",
     "output_type": "stream",
     "text": [
      "Best Hyperparameters: {'algorithm': 'auto', 'leaf_size': 5, 'n_neighbors': 7, 'weights': 'uniform'}\n"
     ]
    }
   ],
   "source": [
    "# Hyperparameter tuning for Random Forest\n",
    "param_grid = {\n",
    "    'n_neighbors': [1,3,5,7,9,11],\n",
    "    'weights': ['uniform', 'distance'],\n",
    "    'algorithm': ['auto', 'ball_tree', 'kd_tree', 'brute'] ,\n",
    "    'leaf_size': [5,10,20,30,40,50]\n",
    "}\n",
    "grid_search = GridSearchCV(KNeighborsClassifier(), param_grid, cv=5)\n",
    "grid_search.fit(X_train, y_train)\n",
    "\n",
    "print(\"Best Hyperparameters:\", grid_search.best_params_)"
   ]
  },
  {
   "cell_type": "code",
   "execution_count": 36,
   "id": "b8a87bc3",
   "metadata": {},
   "outputs": [
    {
     "name": "stdout",
     "output_type": "stream",
     "text": [
      "Test Accuracy: 84.71%\n",
      "Test Accuracy: 80.33%\n",
      "ROC score: 0.805\n",
      "Precision score: 0.77\n",
      "Recall score: 0.82\n",
      "F1 Score score: 0.79\n"
     ]
    }
   ],
   "source": [
    "clf = KNeighborsClassifier(algorithm= 'auto', leaf_size= 5, n_neighbors= 7, weights= 'uniform')\n",
    "print_performance(clf,X_train,y_train,X_test,y_test)"
   ]
  },
  {
   "cell_type": "markdown",
   "id": "a6085fda",
   "metadata": {},
   "source": [
    "## K Nearest Neighbors Best Hyperparameters by RandomizedSearchCV"
   ]
  },
  {
   "cell_type": "code",
   "execution_count": 15,
   "id": "bfe93be8",
   "metadata": {},
   "outputs": [
    {
     "name": "stdout",
     "output_type": "stream",
     "text": [
      "Best Hyperparameters: {'weights': 'uniform', 'n_neighbors': 11, 'leaf_size': 10, 'algorithm': 'auto'}\n"
     ]
    }
   ],
   "source": [
    "# Hyperparameter tuning for Random Forest\n",
    "param_grid = {\n",
    "    'n_neighbors': [1,3,5,7,9,11],\n",
    "    'weights': ['uniform', 'distance'],\n",
    "    'algorithm': ['auto', 'ball_tree', 'kd_tree', 'brute'] ,\n",
    "    'leaf_size': [5,10,20,30,40,50]\n",
    "}\n",
    "grid_search = RandomizedSearchCV(KNeighborsClassifier(), param_grid, cv=5)\n",
    "grid_search.fit(X_train, y_train)\n",
    "\n",
    "print(\"Best Hyperparameters:\", grid_search.best_params_)"
   ]
  },
  {
   "cell_type": "code",
   "execution_count": 37,
   "id": "96f270a9",
   "metadata": {},
   "outputs": [
    {
     "name": "stdout",
     "output_type": "stream",
     "text": [
      "Test Accuracy: 82.23%\n",
      "Test Accuracy: 80.33%\n",
      "ROC score: 0.807\n",
      "Precision score: 0.75\n",
      "Recall score: 0.86\n",
      "F1 Score score: 0.80\n"
     ]
    }
   ],
   "source": [
    "clf = KNeighborsClassifier(algorithm= 'auto', leaf_size= 10, n_neighbors= 11, weights= 'uniform')\n",
    "print_performance(clf,X_train,y_train,X_test,y_test)"
   ]
  },
  {
   "cell_type": "markdown",
   "id": "f7018abd",
   "metadata": {},
   "source": [
    "## Support Vector Machine SVM Best Hyperparameters by GridSearchCV and RandomizedSearchCV"
   ]
  },
  {
   "cell_type": "code",
   "execution_count": 17,
   "id": "824f7481",
   "metadata": {},
   "outputs": [
    {
     "name": "stdout",
     "output_type": "stream",
     "text": [
      "Best Hyperparameters: {'C': 10}\n"
     ]
    }
   ],
   "source": [
    "# Hyperparameter tuning for Decision Tree\n",
    "param_grid = {\n",
    "    'C': [0.1,0.5,1,10]\n",
    "\n",
    "}\n",
    "grid_search = GridSearchCV(SVC(), param_grid, cv=5)\n",
    "grid_search.fit(X_train, y_train)\n",
    "\n",
    "print(\"Best Hyperparameters:\", grid_search.best_params_)"
   ]
  },
  {
   "cell_type": "code",
   "execution_count": 18,
   "id": "97df389c",
   "metadata": {},
   "outputs": [
    {
     "name": "stdout",
     "output_type": "stream",
     "text": [
      "Best Hyperparameters: {'C': 10}\n"
     ]
    }
   ],
   "source": [
    "# Hyperparameter tuning for Decision Tree\n",
    "param_grid = {\n",
    "    'C': [0.1,0.5,1,10]\n",
    "\n",
    "}\n",
    "grid_search = RandomizedSearchCV(SVC(), param_grid, cv=5)\n",
    "grid_search.fit(X_train, y_train)\n",
    "\n",
    "print(\"Best Hyperparameters:\", grid_search.best_params_)"
   ]
  },
  {
   "cell_type": "code",
   "execution_count": 19,
   "id": "7974f980",
   "metadata": {},
   "outputs": [
    {
     "name": "stdout",
     "output_type": "stream",
     "text": [
      "Test Accuracy: 87.60%\n",
      "Test Accuracy: 81.97%\n",
      "ROC score: 0.823\n",
      "Precision score: 0.77\n",
      "Recall score: 0.86\n",
      "F1 Score score: 0.81\n"
     ]
    }
   ],
   "source": [
    "clf = SVC(C=10,probability=True)\n",
    "print_performance(clf,X_train,y_train,X_test,y_test)"
   ]
  },
  {
   "cell_type": "markdown",
   "id": "d85a85fc",
   "metadata": {},
   "source": [
    "## Logistic Regression Best Hyperparameters by RandomizedSearchCV"
   ]
  },
  {
   "cell_type": "code",
   "execution_count": 20,
   "id": "d2782e04",
   "metadata": {},
   "outputs": [
    {
     "name": "stdout",
     "output_type": "stream",
     "text": [
      "Best Hyperparameters: {'max_iter': 10}\n"
     ]
    }
   ],
   "source": [
    "# Hyperparameter tuning for Decision Tree\n",
    "param_grid = {\n",
    "    'max_iter': [1,10,100,1000,10000,100000]\n",
    "\n",
    "}\n",
    "grid_search = RandomizedSearchCV(LogisticRegression(), param_grid, cv=5)\n",
    "grid_search.fit(X_train, y_train)\n",
    "\n",
    "print(\"Best Hyperparameters:\", grid_search.best_params_)"
   ]
  },
  {
   "cell_type": "code",
   "execution_count": 38,
   "id": "187bf737",
   "metadata": {},
   "outputs": [
    {
     "name": "stdout",
     "output_type": "stream",
     "text": [
      "Test Accuracy: 81.40%\n",
      "Test Accuracy: 81.97%\n",
      "ROC score: 0.823\n",
      "Precision score: 0.77\n",
      "Recall score: 0.86\n",
      "F1 Score score: 0.81\n"
     ]
    }
   ],
   "source": [
    "clf = LogisticRegression(max_iter=10)\n",
    "print_performance(clf,X_train,y_train,X_test,y_test)"
   ]
  },
  {
   "cell_type": "markdown",
   "id": "7f66aa5f",
   "metadata": {},
   "source": [
    "## Logistic Regression Best Hyperparameters by GridSearchCV"
   ]
  },
  {
   "cell_type": "code",
   "execution_count": 22,
   "id": "8f12848c",
   "metadata": {},
   "outputs": [
    {
     "name": "stdout",
     "output_type": "stream",
     "text": [
      "Best Hyperparameters: {'max_iter': 10}\n"
     ]
    }
   ],
   "source": [
    "# Hyperparameter tuning for Decision Tree\n",
    "param_grid = {\n",
    "    'max_iter': [1,10,100,1000,10000,100000]\n",
    "\n",
    "}\n",
    "grid_search = GridSearchCV(LogisticRegression(), param_grid, cv=5)\n",
    "grid_search.fit(X_train, y_train)\n",
    "\n",
    "print(\"Best Hyperparameters:\", grid_search.best_params_)"
   ]
  },
  {
   "cell_type": "code",
   "execution_count": 39,
   "id": "599fc84f",
   "metadata": {},
   "outputs": [
    {
     "name": "stdout",
     "output_type": "stream",
     "text": [
      "Test Accuracy: 81.40%\n",
      "Test Accuracy: 81.97%\n",
      "ROC score: 0.823\n",
      "Precision score: 0.77\n",
      "Recall score: 0.86\n",
      "F1 Score score: 0.81\n"
     ]
    }
   ],
   "source": [
    "clf = LogisticRegression(max_iter=10)\n",
    "print_performance(clf,X_train,y_train,X_test,y_test)"
   ]
  },
  {
   "cell_type": "markdown",
   "id": "193fc6a6",
   "metadata": {},
   "source": [
    "## Performance Comparison"
   ]
  },
  {
   "cell_type": "code",
   "execution_count": 40,
   "id": "ebe8bf1b",
   "metadata": {},
   "outputs": [],
   "source": [
    "performance = pd.DataFrame({\n",
    "    'Model':['Decision Tree','Random Forest','KNearestNeighbor','Support Vector Machine','Logistic Regression'],\n",
    "    'Acc':  ['81.97%',        '81.97%',      '80.33%',           '81.97%',                  '81.97%'],\n",
    "    'Roc Score':[0.820,       0.823,          0.807,               0.823,                     0.823],\n",
    "    'Precision':[0.79,        0.77,           0.75,                0.77,                       0.77],\n",
    "    'Recall':   [0.82,        0.86,           0.86,                0.86,                       0.86],\n",
    "    'F1 Score': [0.81,        0.81,           0.80,                0.81,                       0.81]\n",
    "})"
   ]
  },
  {
   "cell_type": "code",
   "execution_count": 41,
   "id": "cd5094cf",
   "metadata": {},
   "outputs": [
    {
     "data": {
      "application/vnd.microsoft.datawrangler.viewer.v0+json": {
       "columns": [
        {
         "name": "index",
         "rawType": "int64",
         "type": "integer"
        },
        {
         "name": "Model",
         "rawType": "object",
         "type": "string"
        },
        {
         "name": "Acc",
         "rawType": "object",
         "type": "string"
        },
        {
         "name": "Roc Score",
         "rawType": "float64",
         "type": "float"
        },
        {
         "name": "Precision",
         "rawType": "float64",
         "type": "float"
        },
        {
         "name": "Recall",
         "rawType": "float64",
         "type": "float"
        },
        {
         "name": "F1 Score",
         "rawType": "float64",
         "type": "float"
        }
       ],
       "ref": "698873c8-f74b-4d6f-9697-e7f416d65bbe",
       "rows": [
        [
         "0",
         "Decision Tree",
         "81.97%",
         "0.82",
         "0.79",
         "0.82",
         "0.81"
        ],
        [
         "1",
         "Random Forest",
         "81.97%",
         "0.823",
         "0.77",
         "0.86",
         "0.81"
        ],
        [
         "2",
         "KNearestNeighbor",
         "80.33%",
         "0.807",
         "0.75",
         "0.86",
         "0.8"
        ],
        [
         "3",
         "Support Vector Machine",
         "81.97%",
         "0.823",
         "0.77",
         "0.86",
         "0.81"
        ],
        [
         "4",
         "Logistic Regression",
         "81.97%",
         "0.823",
         "0.77",
         "0.86",
         "0.81"
        ]
       ],
       "shape": {
        "columns": 6,
        "rows": 5
       }
      },
      "text/html": [
       "<div>\n",
       "<style scoped>\n",
       "    .dataframe tbody tr th:only-of-type {\n",
       "        vertical-align: middle;\n",
       "    }\n",
       "\n",
       "    .dataframe tbody tr th {\n",
       "        vertical-align: top;\n",
       "    }\n",
       "\n",
       "    .dataframe thead th {\n",
       "        text-align: right;\n",
       "    }\n",
       "</style>\n",
       "<table border=\"1\" class=\"dataframe\">\n",
       "  <thead>\n",
       "    <tr style=\"text-align: right;\">\n",
       "      <th></th>\n",
       "      <th>Model</th>\n",
       "      <th>Acc</th>\n",
       "      <th>Roc Score</th>\n",
       "      <th>Precision</th>\n",
       "      <th>Recall</th>\n",
       "      <th>F1 Score</th>\n",
       "    </tr>\n",
       "  </thead>\n",
       "  <tbody>\n",
       "    <tr>\n",
       "      <th>0</th>\n",
       "      <td>Decision Tree</td>\n",
       "      <td>81.97%</td>\n",
       "      <td>0.820</td>\n",
       "      <td>0.79</td>\n",
       "      <td>0.82</td>\n",
       "      <td>0.81</td>\n",
       "    </tr>\n",
       "    <tr>\n",
       "      <th>1</th>\n",
       "      <td>Random Forest</td>\n",
       "      <td>81.97%</td>\n",
       "      <td>0.823</td>\n",
       "      <td>0.77</td>\n",
       "      <td>0.86</td>\n",
       "      <td>0.81</td>\n",
       "    </tr>\n",
       "    <tr>\n",
       "      <th>2</th>\n",
       "      <td>KNearestNeighbor</td>\n",
       "      <td>80.33%</td>\n",
       "      <td>0.807</td>\n",
       "      <td>0.75</td>\n",
       "      <td>0.86</td>\n",
       "      <td>0.80</td>\n",
       "    </tr>\n",
       "    <tr>\n",
       "      <th>3</th>\n",
       "      <td>Support Vector Machine</td>\n",
       "      <td>81.97%</td>\n",
       "      <td>0.823</td>\n",
       "      <td>0.77</td>\n",
       "      <td>0.86</td>\n",
       "      <td>0.81</td>\n",
       "    </tr>\n",
       "    <tr>\n",
       "      <th>4</th>\n",
       "      <td>Logistic Regression</td>\n",
       "      <td>81.97%</td>\n",
       "      <td>0.823</td>\n",
       "      <td>0.77</td>\n",
       "      <td>0.86</td>\n",
       "      <td>0.81</td>\n",
       "    </tr>\n",
       "  </tbody>\n",
       "</table>\n",
       "</div>"
      ],
      "text/plain": [
       "                    Model     Acc  Roc Score  Precision  Recall  F1 Score\n",
       "0           Decision Tree  81.97%      0.820       0.79    0.82      0.81\n",
       "1           Random Forest  81.97%      0.823       0.77    0.86      0.81\n",
       "2        KNearestNeighbor  80.33%      0.807       0.75    0.86      0.80\n",
       "3  Support Vector Machine  81.97%      0.823       0.77    0.86      0.81\n",
       "4     Logistic Regression  81.97%      0.823       0.77    0.86      0.81"
      ]
     },
     "execution_count": 41,
     "metadata": {},
     "output_type": "execute_result"
    }
   ],
   "source": [
    "performance"
   ]
  },
  {
   "cell_type": "code",
   "execution_count": 26,
   "id": "e5c28f3c",
   "metadata": {},
   "outputs": [
    {
     "data": {
      "text/plain": [
       "['logistic_regression_model.pkl']"
      ]
     },
     "execution_count": 26,
     "metadata": {},
     "output_type": "execute_result"
    }
   ],
   "source": [
    "import joblib\n",
    "\n",
    "# Save the model to a file\n",
    "joblib.dump(clf, 'logistic_regression_model.pkl')"
   ]
  },
  {
   "cell_type": "code",
   "execution_count": 27,
   "id": "5a00db00",
   "metadata": {},
   "outputs": [],
   "source": [
    "# Load the model from the file\n",
    "loaded_model = joblib.load('logistic_regression_model.pkl')\n",
    "\n",
    "# Use the model to make predictions\n",
    "predictions = loaded_model.predict(X_test)"
   ]
  },
  {
   "cell_type": "code",
   "execution_count": 28,
   "id": "cb79c754",
   "metadata": {},
   "outputs": [
    {
     "data": {
      "text/plain": [
       "0.819672131147541"
      ]
     },
     "execution_count": 28,
     "metadata": {},
     "output_type": "execute_result"
    }
   ],
   "source": [
    "accuracy_score(y_test,predictions)"
   ]
  },
  {
   "cell_type": "code",
   "execution_count": 29,
   "id": "cd44c274",
   "metadata": {},
   "outputs": [
    {
     "data": {
      "text/plain": [
       "['best_model']"
      ]
     },
     "execution_count": 29,
     "metadata": {},
     "output_type": "execute_result"
    }
   ],
   "source": [
    "import joblib\n",
    "\n",
    "# Save the trained model\n",
    "joblib.dump(clf, 'best_model')"
   ]
  },
  {
   "cell_type": "code",
   "execution_count": 30,
   "id": "4edb846f",
   "metadata": {},
   "outputs": [],
   "source": [
    "model = joblib.load('best_model.pkl')"
   ]
  },
  {
   "cell_type": "code",
   "execution_count": 31,
   "id": "f9e70cc6",
   "metadata": {},
   "outputs": [
    {
     "name": "stdout",
     "output_type": "stream",
     "text": [
      "Test Accuracy: 81.40%\n",
      "Test Accuracy: 81.97%\n",
      "ROC score: 0.823\n",
      "Precision score: 0.77\n",
      "Recall score: 0.86\n",
      "F1 Score score: 0.81\n"
     ]
    }
   ],
   "source": [
    "print_performance(model,X_train,y_train,X_test,y_test)"
   ]
  },
  {
   "cell_type": "code",
   "execution_count": null,
   "id": "b523b670",
   "metadata": {},
   "outputs": [],
   "source": []
  }
 ],
 "metadata": {
  "kernelspec": {
   "display_name": "base",
   "language": "python",
   "name": "python3"
  },
  "language_info": {
   "codemirror_mode": {
    "name": "ipython",
    "version": 3
   },
   "file_extension": ".py",
   "mimetype": "text/x-python",
   "name": "python",
   "nbconvert_exporter": "python",
   "pygments_lexer": "ipython3",
   "version": "3.11.5"
  }
 },
 "nbformat": 4,
 "nbformat_minor": 5
}
